{
 "cells": [
  {
   "cell_type": "markdown",
   "id": "e7e53d6e",
   "metadata": {},
   "source": [
    " <a name='ind'/>"
   ]
  },
  {
   "cell_type": "markdown",
   "id": "91b38135",
   "metadata": {},
   "source": [
    "# <ins>Indice</ins>:"
   ]
  },
  {
   "cell_type": "markdown",
   "id": "4859022d",
   "metadata": {},
   "source": [
    "- ## [Extracción](#ext)\n",
    "- ## [Transformación](#trans)\n",
    "- ## [Carga](#load)"
   ]
  },
  {
   "cell_type": "code",
   "execution_count": 44,
   "id": "c41a891c",
   "metadata": {},
   "outputs": [],
   "source": [
    "import pandas as pd\n",
    "from dateparser import parse\n",
    "import requests as rq\n",
    "import pymongo\n",
    "from password import *   # Datso de la API de Google"
   ]
  },
  {
   "cell_type": "markdown",
   "id": "ce0b6429",
   "metadata": {},
   "source": [
    "<a name='ext'/>"
   ]
  },
  {
   "cell_type": "markdown",
   "id": "fb4139b4",
   "metadata": {},
   "source": [
    "###### ⬆️ [Indice](#ind)"
   ]
  },
  {
   "cell_type": "markdown",
   "id": "52f778c1",
   "metadata": {},
   "source": [
    "### Extracción\n",
    "***"
   ]
  },
  {
   "cell_type": "markdown",
   "id": "2711228e",
   "metadata": {},
   "source": [
    "Vamos a enriquecer la infomración obtenida en el [proyecto](https://github.com/gusavato/3_IRONHACK_ETL) anterior de extracción de datos. Partiremos del archivo .parquet donde se alberga la información de los distintos festivales que se celebran en el año 2023"
   ]
  },
  {
   "cell_type": "code",
   "execution_count": 30,
   "id": "a1ca59d7",
   "metadata": {},
   "outputs": [],
   "source": [
    "fest = pd.read_parquet('../data/df_fest_clean.parquet')"
   ]
  },
  {
   "cell_type": "code",
   "execution_count": 31,
   "id": "f3be8347",
   "metadata": {},
   "outputs": [
    {
     "data": {
      "text/html": [
       "<div>\n",
       "<style scoped>\n",
       "    .dataframe tbody tr th:only-of-type {\n",
       "        vertical-align: middle;\n",
       "    }\n",
       "\n",
       "    .dataframe tbody tr th {\n",
       "        vertical-align: top;\n",
       "    }\n",
       "\n",
       "    .dataframe thead th {\n",
       "        text-align: right;\n",
       "    }\n",
       "</style>\n",
       "<table border=\"1\" class=\"dataframe\">\n",
       "  <thead>\n",
       "    <tr style=\"text-align: right;\">\n",
       "      <th></th>\n",
       "      <th>Festival</th>\n",
       "      <th>url</th>\n",
       "      <th>Cartel</th>\n",
       "      <th>Start_Date</th>\n",
       "      <th>End_Date</th>\n",
       "      <th>Location</th>\n",
       "      <th>info</th>\n",
       "    </tr>\n",
       "  </thead>\n",
       "  <tbody>\n",
       "    <tr>\n",
       "      <th>0</th>\n",
       "      <td>Mallorca Live Festival 2023</td>\n",
       "      <td>https://www.songkick.com/es/festivals/1520684-...</td>\n",
       "      <td>[Black Eyed Peas, Chemical Brothers, The Dandy...</td>\n",
       "      <td>jueves 18 mayo 2023</td>\n",
       "      <td>sábado 20 mayo 2023</td>\n",
       "      <td>Antic Aquapark</td>\n",
       "      <td>Camí Cala Figuera, 1\\n07181\\nCalvia, Spain\\nww...</td>\n",
       "    </tr>\n",
       "    <tr>\n",
       "      <th>1</th>\n",
       "      <td>Primavera a la Ciutat 2023</td>\n",
       "      <td>https://www.songkick.com/es/festivals/3452756-...</td>\n",
       "      <td>[Jake Bugg, Pet Shop Boys, Confidence Man, La ...</td>\n",
       "      <td>martes 30 mayo 2023</td>\n",
       "      <td>miércoles 31 mayo 2023</td>\n",
       "      <td>Sala Apolo</td>\n",
       "      <td>C/ Nou De La Rambla 113\\n08004\\nBarcelona, Spa...</td>\n",
       "    </tr>\n",
       "    <tr>\n",
       "      <th>2</th>\n",
       "      <td>Primavera In The City - Madrid 2023</td>\n",
       "      <td>https://www.songkick.com/es/festivals/3500869-...</td>\n",
       "      <td>[Bleachers, Julia Jacklin, PUP, Black Country,...</td>\n",
       "      <td>lunes 05 junio 2023</td>\n",
       "      <td>domingo 11 junio 2023</td>\n",
       "      <td>Unknown</td>\n",
       "      <td>Unknown</td>\n",
       "    </tr>\n",
       "    <tr>\n",
       "      <th>3</th>\n",
       "      <td>Primavera Sound Festival 2023</td>\n",
       "      <td>https://www.songkick.com/es/festivals/618-prim...</td>\n",
       "      <td>[Kendrick Lamar, Calvin Harris, Skrillex, Hals...</td>\n",
       "      <td>jueves 08 junio 2023</td>\n",
       "      <td>domingo 11 junio 2023</td>\n",
       "      <td>Ciudad del Rock</td>\n",
       "      <td>Autovía A3: Sentido Valencia Salida 33A, 35\\n2...</td>\n",
       "    </tr>\n",
       "    <tr>\n",
       "      <th>4</th>\n",
       "      <td>Primavera Pack 2023</td>\n",
       "      <td>https://www.songkick.com/es/festivals/3495900-...</td>\n",
       "      <td>[Kendrick Lamar, Calvin Harris, Skrillex, Hals...</td>\n",
       "      <td>jueves 08 junio 2023</td>\n",
       "      <td>sábado 10 junio 2023</td>\n",
       "      <td>Ciudad del Rock</td>\n",
       "      <td>Autovía A3: Sentido Valencia Salida 33A, 35\\n2...</td>\n",
       "    </tr>\n",
       "  </tbody>\n",
       "</table>\n",
       "</div>"
      ],
      "text/plain": [
       "                              Festival   \n",
       "0          Mallorca Live Festival 2023  \\\n",
       "1           Primavera a la Ciutat 2023   \n",
       "2  Primavera In The City - Madrid 2023   \n",
       "3        Primavera Sound Festival 2023   \n",
       "4                  Primavera Pack 2023   \n",
       "\n",
       "                                                 url   \n",
       "0  https://www.songkick.com/es/festivals/1520684-...  \\\n",
       "1  https://www.songkick.com/es/festivals/3452756-...   \n",
       "2  https://www.songkick.com/es/festivals/3500869-...   \n",
       "3  https://www.songkick.com/es/festivals/618-prim...   \n",
       "4  https://www.songkick.com/es/festivals/3495900-...   \n",
       "\n",
       "                                              Cartel            Start_Date   \n",
       "0  [Black Eyed Peas, Chemical Brothers, The Dandy...   jueves 18 mayo 2023  \\\n",
       "1  [Jake Bugg, Pet Shop Boys, Confidence Man, La ...   martes 30 mayo 2023   \n",
       "2  [Bleachers, Julia Jacklin, PUP, Black Country,...   lunes 05 junio 2023   \n",
       "3  [Kendrick Lamar, Calvin Harris, Skrillex, Hals...  jueves 08 junio 2023   \n",
       "4  [Kendrick Lamar, Calvin Harris, Skrillex, Hals...  jueves 08 junio 2023   \n",
       "\n",
       "                 End_Date         Location   \n",
       "0     sábado 20 mayo 2023   Antic Aquapark  \\\n",
       "1  miércoles 31 mayo 2023       Sala Apolo   \n",
       "2   domingo 11 junio 2023          Unknown   \n",
       "3   domingo 11 junio 2023  Ciudad del Rock   \n",
       "4    sábado 10 junio 2023  Ciudad del Rock   \n",
       "\n",
       "                                                info  \n",
       "0  Camí Cala Figuera, 1\\n07181\\nCalvia, Spain\\nww...  \n",
       "1  C/ Nou De La Rambla 113\\n08004\\nBarcelona, Spa...  \n",
       "2                                            Unknown  \n",
       "3  Autovía A3: Sentido Valencia Salida 33A, 35\\n2...  \n",
       "4  Autovía A3: Sentido Valencia Salida 33A, 35\\n2...  "
      ]
     },
     "execution_count": 31,
     "metadata": {},
     "output_type": "execute_result"
    }
   ],
   "source": [
    "fest.head()"
   ]
  },
  {
   "cell_type": "markdown",
   "id": "f4797147",
   "metadata": {},
   "source": [
    "<a name='trans'/>"
   ]
  },
  {
   "cell_type": "markdown",
   "id": "60c974a0",
   "metadata": {},
   "source": [
    "###### ⬆️ [Indice](#ind)"
   ]
  },
  {
   "cell_type": "markdown",
   "id": "3e000909",
   "metadata": {},
   "source": [
    "### Transformación\n",
    "***"
   ]
  },
  {
   "cell_type": "markdown",
   "id": "155b150e",
   "metadata": {},
   "source": [
    "El primer paso que vamos a realizar es el de formatear las fechas de inicio y final de festival a un formato correcto (actualmemte string). Para ello nos ayudamos de la librería dateparser"
   ]
  },
  {
   "cell_type": "code",
   "execution_count": 32,
   "id": "2aff5673",
   "metadata": {},
   "outputs": [],
   "source": [
    "fest.Start_Date = fest.Start_Date.apply(lambda x: parse(x,languages=['es']))\n",
    "fest.End_Date = fest.End_Date.apply(lambda x: parse(x,languages=['es']))"
   ]
  },
  {
   "cell_type": "code",
   "execution_count": 33,
   "id": "63a3f8fd",
   "metadata": {},
   "outputs": [
    {
     "data": {
      "text/html": [
       "<div>\n",
       "<style scoped>\n",
       "    .dataframe tbody tr th:only-of-type {\n",
       "        vertical-align: middle;\n",
       "    }\n",
       "\n",
       "    .dataframe tbody tr th {\n",
       "        vertical-align: top;\n",
       "    }\n",
       "\n",
       "    .dataframe thead th {\n",
       "        text-align: right;\n",
       "    }\n",
       "</style>\n",
       "<table border=\"1\" class=\"dataframe\">\n",
       "  <thead>\n",
       "    <tr style=\"text-align: right;\">\n",
       "      <th></th>\n",
       "      <th>Festival</th>\n",
       "      <th>url</th>\n",
       "      <th>Cartel</th>\n",
       "      <th>Start_Date</th>\n",
       "      <th>End_Date</th>\n",
       "      <th>Location</th>\n",
       "      <th>info</th>\n",
       "    </tr>\n",
       "  </thead>\n",
       "  <tbody>\n",
       "    <tr>\n",
       "      <th>0</th>\n",
       "      <td>Mallorca Live Festival 2023</td>\n",
       "      <td>https://www.songkick.com/es/festivals/1520684-...</td>\n",
       "      <td>[Black Eyed Peas, Chemical Brothers, The Dandy...</td>\n",
       "      <td>2023-05-18</td>\n",
       "      <td>2023-05-20</td>\n",
       "      <td>Antic Aquapark</td>\n",
       "      <td>Camí Cala Figuera, 1\\n07181\\nCalvia, Spain\\nww...</td>\n",
       "    </tr>\n",
       "    <tr>\n",
       "      <th>1</th>\n",
       "      <td>Primavera a la Ciutat 2023</td>\n",
       "      <td>https://www.songkick.com/es/festivals/3452756-...</td>\n",
       "      <td>[Jake Bugg, Pet Shop Boys, Confidence Man, La ...</td>\n",
       "      <td>2023-05-30</td>\n",
       "      <td>2023-05-31</td>\n",
       "      <td>Sala Apolo</td>\n",
       "      <td>C/ Nou De La Rambla 113\\n08004\\nBarcelona, Spa...</td>\n",
       "    </tr>\n",
       "    <tr>\n",
       "      <th>2</th>\n",
       "      <td>Primavera In The City - Madrid 2023</td>\n",
       "      <td>https://www.songkick.com/es/festivals/3500869-...</td>\n",
       "      <td>[Bleachers, Julia Jacklin, PUP, Black Country,...</td>\n",
       "      <td>2023-06-05</td>\n",
       "      <td>2023-06-11</td>\n",
       "      <td>Unknown</td>\n",
       "      <td>Unknown</td>\n",
       "    </tr>\n",
       "    <tr>\n",
       "      <th>3</th>\n",
       "      <td>Primavera Sound Festival 2023</td>\n",
       "      <td>https://www.songkick.com/es/festivals/618-prim...</td>\n",
       "      <td>[Kendrick Lamar, Calvin Harris, Skrillex, Hals...</td>\n",
       "      <td>2023-06-08</td>\n",
       "      <td>2023-06-11</td>\n",
       "      <td>Ciudad del Rock</td>\n",
       "      <td>Autovía A3: Sentido Valencia Salida 33A, 35\\n2...</td>\n",
       "    </tr>\n",
       "    <tr>\n",
       "      <th>4</th>\n",
       "      <td>Primavera Pack 2023</td>\n",
       "      <td>https://www.songkick.com/es/festivals/3495900-...</td>\n",
       "      <td>[Kendrick Lamar, Calvin Harris, Skrillex, Hals...</td>\n",
       "      <td>2023-06-08</td>\n",
       "      <td>2023-06-10</td>\n",
       "      <td>Ciudad del Rock</td>\n",
       "      <td>Autovía A3: Sentido Valencia Salida 33A, 35\\n2...</td>\n",
       "    </tr>\n",
       "  </tbody>\n",
       "</table>\n",
       "</div>"
      ],
      "text/plain": [
       "                              Festival   \n",
       "0          Mallorca Live Festival 2023  \\\n",
       "1           Primavera a la Ciutat 2023   \n",
       "2  Primavera In The City - Madrid 2023   \n",
       "3        Primavera Sound Festival 2023   \n",
       "4                  Primavera Pack 2023   \n",
       "\n",
       "                                                 url   \n",
       "0  https://www.songkick.com/es/festivals/1520684-...  \\\n",
       "1  https://www.songkick.com/es/festivals/3452756-...   \n",
       "2  https://www.songkick.com/es/festivals/3500869-...   \n",
       "3  https://www.songkick.com/es/festivals/618-prim...   \n",
       "4  https://www.songkick.com/es/festivals/3495900-...   \n",
       "\n",
       "                                              Cartel Start_Date   End_Date   \n",
       "0  [Black Eyed Peas, Chemical Brothers, The Dandy... 2023-05-18 2023-05-20  \\\n",
       "1  [Jake Bugg, Pet Shop Boys, Confidence Man, La ... 2023-05-30 2023-05-31   \n",
       "2  [Bleachers, Julia Jacklin, PUP, Black Country,... 2023-06-05 2023-06-11   \n",
       "3  [Kendrick Lamar, Calvin Harris, Skrillex, Hals... 2023-06-08 2023-06-11   \n",
       "4  [Kendrick Lamar, Calvin Harris, Skrillex, Hals... 2023-06-08 2023-06-10   \n",
       "\n",
       "          Location                                               info  \n",
       "0   Antic Aquapark  Camí Cala Figuera, 1\\n07181\\nCalvia, Spain\\nww...  \n",
       "1       Sala Apolo  C/ Nou De La Rambla 113\\n08004\\nBarcelona, Spa...  \n",
       "2          Unknown                                            Unknown  \n",
       "3  Ciudad del Rock  Autovía A3: Sentido Valencia Salida 33A, 35\\n2...  \n",
       "4  Ciudad del Rock  Autovía A3: Sentido Valencia Salida 33A, 35\\n2...  "
      ]
     },
     "execution_count": 33,
     "metadata": {},
     "output_type": "execute_result"
    }
   ],
   "source": [
    "fest.head()"
   ]
  },
  {
   "cell_type": "markdown",
   "id": "d268d48e",
   "metadata": {},
   "source": [
    "El siguiente paso es conseguir las coordenadas de longitud y latitud de cada uno de los festivales. En la columna info podemos obtener esta información"
   ]
  },
  {
   "cell_type": "code",
   "execution_count": 34,
   "id": "c9d1d57d",
   "metadata": {},
   "outputs": [],
   "source": [
    "# Eliminamos los saltos de linea de la columna info\n",
    "\n",
    "fest['info'] = fest['info'].apply(lambda x :' '.join(x.split()))"
   ]
  },
  {
   "cell_type": "code",
   "execution_count": 23,
   "id": "00744a64",
   "metadata": {},
   "outputs": [],
   "source": [
    "def get_coordinates(x):\n",
    "    \"\"\"\n",
    "    Función que dada una query, se envía la query a google maps, y recoge\n",
    "    la información de latitud y logintud\n",
    "\n",
    "    \"\"\"\n",
    "    global API_KEY_GOOGLE\n",
    "    address = x.replace(' ', '%20')\n",
    "    url = f'https://maps.googleapis.com/maps/api/geocode/json?address={address}&key={API_KEY_GOOGLE}'\n",
    "    try:\n",
    "        response = rq.get(url)\n",
    "        lat, long = response.json()['results'][0]['geometry']['location'].values()\n",
    "        country = response.json()['results'][0]['address_components'][-2]['long_name']\n",
    "        return {'Latitud': lat,'Longitud': long}\n",
    "    except:\n",
    "        return {'Latitud': None,'Longitud': None}"
   ]
  },
  {
   "cell_type": "code",
   "execution_count": 24,
   "id": "8b1513c6",
   "metadata": {},
   "outputs": [],
   "source": [
    "coord = [get_coordinates(query) for query in fest['info']]"
   ]
  },
  {
   "cell_type": "code",
   "execution_count": 27,
   "id": "72030b2c",
   "metadata": {},
   "outputs": [
    {
     "data": {
      "text/html": [
       "<div>\n",
       "<style scoped>\n",
       "    .dataframe tbody tr th:only-of-type {\n",
       "        vertical-align: middle;\n",
       "    }\n",
       "\n",
       "    .dataframe tbody tr th {\n",
       "        vertical-align: top;\n",
       "    }\n",
       "\n",
       "    .dataframe thead th {\n",
       "        text-align: right;\n",
       "    }\n",
       "</style>\n",
       "<table border=\"1\" class=\"dataframe\">\n",
       "  <thead>\n",
       "    <tr style=\"text-align: right;\">\n",
       "      <th></th>\n",
       "      <th>Latitud</th>\n",
       "      <th>Longitud</th>\n",
       "    </tr>\n",
       "  </thead>\n",
       "  <tbody>\n",
       "    <tr>\n",
       "      <th>0</th>\n",
       "      <td>39.506894</td>\n",
       "      <td>2.519330</td>\n",
       "    </tr>\n",
       "    <tr>\n",
       "      <th>1</th>\n",
       "      <td>41.374302</td>\n",
       "      <td>2.169684</td>\n",
       "    </tr>\n",
       "    <tr>\n",
       "      <th>2</th>\n",
       "      <td>NaN</td>\n",
       "      <td>NaN</td>\n",
       "    </tr>\n",
       "    <tr>\n",
       "      <th>3</th>\n",
       "      <td>39.470690</td>\n",
       "      <td>-0.427288</td>\n",
       "    </tr>\n",
       "    <tr>\n",
       "      <th>4</th>\n",
       "      <td>39.470690</td>\n",
       "      <td>-0.427288</td>\n",
       "    </tr>\n",
       "    <tr>\n",
       "      <th>...</th>\n",
       "      <td>...</td>\n",
       "      <td>...</td>\n",
       "    </tr>\n",
       "    <tr>\n",
       "      <th>475</th>\n",
       "      <td>41.887226</td>\n",
       "      <td>-8.786437</td>\n",
       "    </tr>\n",
       "    <tr>\n",
       "      <th>476</th>\n",
       "      <td>41.171382</td>\n",
       "      <td>-8.676519</td>\n",
       "    </tr>\n",
       "    <tr>\n",
       "      <th>477</th>\n",
       "      <td>38.698719</td>\n",
       "      <td>-9.238162</td>\n",
       "    </tr>\n",
       "    <tr>\n",
       "      <th>478</th>\n",
       "      <td>47.553085</td>\n",
       "      <td>19.048025</td>\n",
       "    </tr>\n",
       "    <tr>\n",
       "      <th>479</th>\n",
       "      <td>20.464473</td>\n",
       "      <td>-103.257161</td>\n",
       "    </tr>\n",
       "  </tbody>\n",
       "</table>\n",
       "<p>480 rows × 2 columns</p>\n",
       "</div>"
      ],
      "text/plain": [
       "       Latitud    Longitud\n",
       "0    39.506894    2.519330\n",
       "1    41.374302    2.169684\n",
       "2          NaN         NaN\n",
       "3    39.470690   -0.427288\n",
       "4    39.470690   -0.427288\n",
       "..         ...         ...\n",
       "475  41.887226   -8.786437\n",
       "476  41.171382   -8.676519\n",
       "477  38.698719   -9.238162\n",
       "478  47.553085   19.048025\n",
       "479  20.464473 -103.257161\n",
       "\n",
       "[480 rows x 2 columns]"
      ]
     },
     "execution_count": 27,
     "metadata": {},
     "output_type": "execute_result"
    }
   ],
   "source": [
    "pd.DataFrame(coord)"
   ]
  },
  {
   "cell_type": "code",
   "execution_count": 35,
   "id": "826c46f0",
   "metadata": {},
   "outputs": [
    {
     "data": {
      "text/html": [
       "<div>\n",
       "<style scoped>\n",
       "    .dataframe tbody tr th:only-of-type {\n",
       "        vertical-align: middle;\n",
       "    }\n",
       "\n",
       "    .dataframe tbody tr th {\n",
       "        vertical-align: top;\n",
       "    }\n",
       "\n",
       "    .dataframe thead th {\n",
       "        text-align: right;\n",
       "    }\n",
       "</style>\n",
       "<table border=\"1\" class=\"dataframe\">\n",
       "  <thead>\n",
       "    <tr style=\"text-align: right;\">\n",
       "      <th></th>\n",
       "      <th>Festival</th>\n",
       "      <th>url</th>\n",
       "      <th>Cartel</th>\n",
       "      <th>Start_Date</th>\n",
       "      <th>End_Date</th>\n",
       "      <th>Location</th>\n",
       "      <th>info</th>\n",
       "      <th>Latitud</th>\n",
       "      <th>Longitud</th>\n",
       "    </tr>\n",
       "  </thead>\n",
       "  <tbody>\n",
       "    <tr>\n",
       "      <th>0</th>\n",
       "      <td>Mallorca Live Festival 2023</td>\n",
       "      <td>https://www.songkick.com/es/festivals/1520684-...</td>\n",
       "      <td>[Black Eyed Peas, Chemical Brothers, The Dandy...</td>\n",
       "      <td>2023-05-18</td>\n",
       "      <td>2023-05-20</td>\n",
       "      <td>Antic Aquapark</td>\n",
       "      <td>Camí Cala Figuera, 1 07181 Calvia, Spain www.m...</td>\n",
       "      <td>39.506894</td>\n",
       "      <td>2.519330</td>\n",
       "    </tr>\n",
       "    <tr>\n",
       "      <th>1</th>\n",
       "      <td>Primavera a la Ciutat 2023</td>\n",
       "      <td>https://www.songkick.com/es/festivals/3452756-...</td>\n",
       "      <td>[Jake Bugg, Pet Shop Boys, Confidence Man, La ...</td>\n",
       "      <td>2023-05-30</td>\n",
       "      <td>2023-05-31</td>\n",
       "      <td>Sala Apolo</td>\n",
       "      <td>C/ Nou De La Rambla 113 08004 Barcelona, Spain...</td>\n",
       "      <td>41.374302</td>\n",
       "      <td>2.169684</td>\n",
       "    </tr>\n",
       "    <tr>\n",
       "      <th>2</th>\n",
       "      <td>Primavera In The City - Madrid 2023</td>\n",
       "      <td>https://www.songkick.com/es/festivals/3500869-...</td>\n",
       "      <td>[Bleachers, Julia Jacklin, PUP, Black Country,...</td>\n",
       "      <td>2023-06-05</td>\n",
       "      <td>2023-06-11</td>\n",
       "      <td>Unknown</td>\n",
       "      <td>Unknown</td>\n",
       "      <td>NaN</td>\n",
       "      <td>NaN</td>\n",
       "    </tr>\n",
       "    <tr>\n",
       "      <th>3</th>\n",
       "      <td>Primavera Sound Festival 2023</td>\n",
       "      <td>https://www.songkick.com/es/festivals/618-prim...</td>\n",
       "      <td>[Kendrick Lamar, Calvin Harris, Skrillex, Hals...</td>\n",
       "      <td>2023-06-08</td>\n",
       "      <td>2023-06-11</td>\n",
       "      <td>Ciudad del Rock</td>\n",
       "      <td>Autovía A3: Sentido Valencia Salida 33A, 35 28...</td>\n",
       "      <td>39.470690</td>\n",
       "      <td>-0.427288</td>\n",
       "    </tr>\n",
       "    <tr>\n",
       "      <th>4</th>\n",
       "      <td>Primavera Pack 2023</td>\n",
       "      <td>https://www.songkick.com/es/festivals/3495900-...</td>\n",
       "      <td>[Kendrick Lamar, Calvin Harris, Skrillex, Hals...</td>\n",
       "      <td>2023-06-08</td>\n",
       "      <td>2023-06-10</td>\n",
       "      <td>Ciudad del Rock</td>\n",
       "      <td>Autovía A3: Sentido Valencia Salida 33A, 35 28...</td>\n",
       "      <td>39.470690</td>\n",
       "      <td>-0.427288</td>\n",
       "    </tr>\n",
       "  </tbody>\n",
       "</table>\n",
       "</div>"
      ],
      "text/plain": [
       "                              Festival   \n",
       "0          Mallorca Live Festival 2023  \\\n",
       "1           Primavera a la Ciutat 2023   \n",
       "2  Primavera In The City - Madrid 2023   \n",
       "3        Primavera Sound Festival 2023   \n",
       "4                  Primavera Pack 2023   \n",
       "\n",
       "                                                 url   \n",
       "0  https://www.songkick.com/es/festivals/1520684-...  \\\n",
       "1  https://www.songkick.com/es/festivals/3452756-...   \n",
       "2  https://www.songkick.com/es/festivals/3500869-...   \n",
       "3  https://www.songkick.com/es/festivals/618-prim...   \n",
       "4  https://www.songkick.com/es/festivals/3495900-...   \n",
       "\n",
       "                                              Cartel Start_Date   End_Date   \n",
       "0  [Black Eyed Peas, Chemical Brothers, The Dandy... 2023-05-18 2023-05-20  \\\n",
       "1  [Jake Bugg, Pet Shop Boys, Confidence Man, La ... 2023-05-30 2023-05-31   \n",
       "2  [Bleachers, Julia Jacklin, PUP, Black Country,... 2023-06-05 2023-06-11   \n",
       "3  [Kendrick Lamar, Calvin Harris, Skrillex, Hals... 2023-06-08 2023-06-11   \n",
       "4  [Kendrick Lamar, Calvin Harris, Skrillex, Hals... 2023-06-08 2023-06-10   \n",
       "\n",
       "          Location                                               info   \n",
       "0   Antic Aquapark  Camí Cala Figuera, 1 07181 Calvia, Spain www.m...  \\\n",
       "1       Sala Apolo  C/ Nou De La Rambla 113 08004 Barcelona, Spain...   \n",
       "2          Unknown                                            Unknown   \n",
       "3  Ciudad del Rock  Autovía A3: Sentido Valencia Salida 33A, 35 28...   \n",
       "4  Ciudad del Rock  Autovía A3: Sentido Valencia Salida 33A, 35 28...   \n",
       "\n",
       "     Latitud  Longitud  \n",
       "0  39.506894  2.519330  \n",
       "1  41.374302  2.169684  \n",
       "2        NaN       NaN  \n",
       "3  39.470690 -0.427288  \n",
       "4  39.470690 -0.427288  "
      ]
     },
     "execution_count": 35,
     "metadata": {},
     "output_type": "execute_result"
    }
   ],
   "source": [
    "fest = pd.concat([fest,pd.DataFrame(coord)],axis=1)\n",
    "fest.head()"
   ]
  },
  {
   "cell_type": "code",
   "execution_count": 40,
   "id": "df1c8f10",
   "metadata": {},
   "outputs": [],
   "source": [
    "# Guardamos la información de aquellos festivales que no se ha localizado la información\n",
    "\n",
    "fest[fest.Longitud.isna()].Festival.to_csv('../data/fest_wo_loc.csv', index=False)"
   ]
  },
  {
   "cell_type": "markdown",
   "id": "ec019bb7",
   "metadata": {},
   "source": [
    "Guardamos la información en un archivo parquet nuevo. No hemos borrado los nulos ya que estos solo afectaran a la hora de ubicar el festival en un mapa, y no los hemos transformado a un valor númerico 0, porque la ubicación sería erronea. Si lo dejamos como None, podemos configurar la visualización para que no tenga en cuenta estos datos"
   ]
  },
  {
   "cell_type": "code",
   "execution_count": 42,
   "id": "97ea3520",
   "metadata": {},
   "outputs": [],
   "source": [
    "fest.to_parquet('../data/fest_coord.parquet',index=False)"
   ]
  },
  {
   "cell_type": "markdown",
   "id": "cf8d020e",
   "metadata": {},
   "source": [
    "<a name='load'/>"
   ]
  },
  {
   "cell_type": "markdown",
   "id": "99c64414",
   "metadata": {},
   "source": [
    "###### ⬆️ [Indice](#ind)"
   ]
  },
  {
   "cell_type": "markdown",
   "id": "144bd553",
   "metadata": {},
   "source": [
    "### Carga\n",
    "***"
   ]
  },
  {
   "cell_type": "code",
   "execution_count": null,
   "id": "cfac4cfc",
   "metadata": {},
   "outputs": [],
   "source": [
    "cursor = pymongo.MongoClient('mongodb://localhost:27017')"
   ]
  },
  {
   "cell_type": "code",
   "execution_count": null,
   "id": "0a86e282",
   "metadata": {},
   "outputs": [],
   "source": [
    "db_fest = cursor.Festivales"
   ]
  },
  {
   "cell_type": "code",
   "execution_count": null,
   "id": "35880e10",
   "metadata": {},
   "outputs": [],
   "source": [
    "fest_coord = db_fest.fest_coord"
   ]
  },
  {
   "cell_type": "code",
   "execution_count": null,
   "id": "50a848cb",
   "metadata": {},
   "outputs": [],
   "source": [
    "fest.Cartel = fest.Cartel.apply(list)    # Convertimos el array de np a lista para no tener problema con la subida de datos a la DB \n",
    "fest_coord.insert_many(fest.to_dict(orient='records'))"
   ]
  },
  {
   "cell_type": "code",
   "execution_count": null,
   "id": "c4819e86",
   "metadata": {},
   "outputs": [],
   "source": []
  }
 ],
 "metadata": {
  "kernelspec": {
   "display_name": "Python 3 (ipykernel)",
   "language": "python",
   "name": "python3"
  },
  "language_info": {
   "codemirror_mode": {
    "name": "ipython",
    "version": 3
   },
   "file_extension": ".py",
   "mimetype": "text/x-python",
   "name": "python",
   "nbconvert_exporter": "python",
   "pygments_lexer": "ipython3",
   "version": "3.9.15"
  },
  "varInspector": {
   "cols": {
    "lenName": 16,
    "lenType": 16,
    "lenVar": 40
   },
   "kernels_config": {
    "python": {
     "delete_cmd_postfix": "",
     "delete_cmd_prefix": "del ",
     "library": "var_list.py",
     "varRefreshCmd": "print(var_dic_list())"
    },
    "r": {
     "delete_cmd_postfix": ") ",
     "delete_cmd_prefix": "rm(",
     "library": "var_list.r",
     "varRefreshCmd": "cat(var_dic_list()) "
    }
   },
   "types_to_exclude": [
    "module",
    "function",
    "builtin_function_or_method",
    "instance",
    "_Feature"
   ],
   "window_display": false
  }
 },
 "nbformat": 4,
 "nbformat_minor": 5
}
