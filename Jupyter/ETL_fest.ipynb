{
 "cells": [
  {
   "cell_type": "code",
   "execution_count": 1,
   "id": "c41a891c",
   "metadata": {},
   "outputs": [],
   "source": [
    "import pandas as pd\n",
    "from dateparser import parse\n",
    "import requests as rq\n",
    "import tqdm\n",
    "import pyarrow\n",
    "from password import *"
   ]
  },
  {
   "cell_type": "code",
   "execution_count": 2,
   "id": "a1ca59d7",
   "metadata": {},
   "outputs": [],
   "source": [
    "fest = pd.read_parquet('../data/df_fest_clean.parquet')"
   ]
  },
  {
   "cell_type": "code",
   "execution_count": 3,
   "id": "f3be8347",
   "metadata": {},
   "outputs": [
    {
     "data": {
      "text/html": [
       "<div>\n",
       "<style scoped>\n",
       "    .dataframe tbody tr th:only-of-type {\n",
       "        vertical-align: middle;\n",
       "    }\n",
       "\n",
       "    .dataframe tbody tr th {\n",
       "        vertical-align: top;\n",
       "    }\n",
       "\n",
       "    .dataframe thead th {\n",
       "        text-align: right;\n",
       "    }\n",
       "</style>\n",
       "<table border=\"1\" class=\"dataframe\">\n",
       "  <thead>\n",
       "    <tr style=\"text-align: right;\">\n",
       "      <th></th>\n",
       "      <th>Festival</th>\n",
       "      <th>url</th>\n",
       "      <th>Cartel</th>\n",
       "      <th>Start_Date</th>\n",
       "      <th>End_Date</th>\n",
       "      <th>Location</th>\n",
       "      <th>info</th>\n",
       "    </tr>\n",
       "  </thead>\n",
       "  <tbody>\n",
       "    <tr>\n",
       "      <th>0</th>\n",
       "      <td>Mallorca Live Festival 2023</td>\n",
       "      <td>https://www.songkick.com/es/festivals/1520684-...</td>\n",
       "      <td>[Black Eyed Peas, Chemical Brothers, The Dandy...</td>\n",
       "      <td>jueves 18 mayo 2023</td>\n",
       "      <td>sábado 20 mayo 2023</td>\n",
       "      <td>Antic Aquapark</td>\n",
       "      <td>Camí Cala Figuera, 1\\n07181\\nCalvia, Spain\\nww...</td>\n",
       "    </tr>\n",
       "    <tr>\n",
       "      <th>1</th>\n",
       "      <td>Primavera a la Ciutat 2023</td>\n",
       "      <td>https://www.songkick.com/es/festivals/3452756-...</td>\n",
       "      <td>[Jake Bugg, Pet Shop Boys, Confidence Man, La ...</td>\n",
       "      <td>martes 30 mayo 2023</td>\n",
       "      <td>miércoles 31 mayo 2023</td>\n",
       "      <td>Sala Apolo</td>\n",
       "      <td>C/ Nou De La Rambla 113\\n08004\\nBarcelona, Spa...</td>\n",
       "    </tr>\n",
       "    <tr>\n",
       "      <th>2</th>\n",
       "      <td>Primavera In The City - Madrid 2023</td>\n",
       "      <td>https://www.songkick.com/es/festivals/3500869-...</td>\n",
       "      <td>[Bleachers, Julia Jacklin, PUP, Black Country,...</td>\n",
       "      <td>lunes 05 junio 2023</td>\n",
       "      <td>domingo 11 junio 2023</td>\n",
       "      <td>Unknown</td>\n",
       "      <td>Unknown</td>\n",
       "    </tr>\n",
       "    <tr>\n",
       "      <th>3</th>\n",
       "      <td>Primavera Sound Festival 2023</td>\n",
       "      <td>https://www.songkick.com/es/festivals/618-prim...</td>\n",
       "      <td>[Kendrick Lamar, Calvin Harris, Skrillex, Hals...</td>\n",
       "      <td>jueves 08 junio 2023</td>\n",
       "      <td>domingo 11 junio 2023</td>\n",
       "      <td>Ciudad del Rock</td>\n",
       "      <td>Autovía A3: Sentido Valencia Salida 33A, 35\\n2...</td>\n",
       "    </tr>\n",
       "    <tr>\n",
       "      <th>4</th>\n",
       "      <td>Primavera Pack 2023</td>\n",
       "      <td>https://www.songkick.com/es/festivals/3495900-...</td>\n",
       "      <td>[Kendrick Lamar, Calvin Harris, Skrillex, Hals...</td>\n",
       "      <td>jueves 08 junio 2023</td>\n",
       "      <td>sábado 10 junio 2023</td>\n",
       "      <td>Ciudad del Rock</td>\n",
       "      <td>Autovía A3: Sentido Valencia Salida 33A, 35\\n2...</td>\n",
       "    </tr>\n",
       "  </tbody>\n",
       "</table>\n",
       "</div>"
      ],
      "text/plain": [
       "                              Festival   \n",
       "0          Mallorca Live Festival 2023  \\\n",
       "1           Primavera a la Ciutat 2023   \n",
       "2  Primavera In The City - Madrid 2023   \n",
       "3        Primavera Sound Festival 2023   \n",
       "4                  Primavera Pack 2023   \n",
       "\n",
       "                                                 url   \n",
       "0  https://www.songkick.com/es/festivals/1520684-...  \\\n",
       "1  https://www.songkick.com/es/festivals/3452756-...   \n",
       "2  https://www.songkick.com/es/festivals/3500869-...   \n",
       "3  https://www.songkick.com/es/festivals/618-prim...   \n",
       "4  https://www.songkick.com/es/festivals/3495900-...   \n",
       "\n",
       "                                              Cartel            Start_Date   \n",
       "0  [Black Eyed Peas, Chemical Brothers, The Dandy...   jueves 18 mayo 2023  \\\n",
       "1  [Jake Bugg, Pet Shop Boys, Confidence Man, La ...   martes 30 mayo 2023   \n",
       "2  [Bleachers, Julia Jacklin, PUP, Black Country,...   lunes 05 junio 2023   \n",
       "3  [Kendrick Lamar, Calvin Harris, Skrillex, Hals...  jueves 08 junio 2023   \n",
       "4  [Kendrick Lamar, Calvin Harris, Skrillex, Hals...  jueves 08 junio 2023   \n",
       "\n",
       "                 End_Date         Location   \n",
       "0     sábado 20 mayo 2023   Antic Aquapark  \\\n",
       "1  miércoles 31 mayo 2023       Sala Apolo   \n",
       "2   domingo 11 junio 2023          Unknown   \n",
       "3   domingo 11 junio 2023  Ciudad del Rock   \n",
       "4    sábado 10 junio 2023  Ciudad del Rock   \n",
       "\n",
       "                                                info  \n",
       "0  Camí Cala Figuera, 1\\n07181\\nCalvia, Spain\\nww...  \n",
       "1  C/ Nou De La Rambla 113\\n08004\\nBarcelona, Spa...  \n",
       "2                                            Unknown  \n",
       "3  Autovía A3: Sentido Valencia Salida 33A, 35\\n2...  \n",
       "4  Autovía A3: Sentido Valencia Salida 33A, 35\\n2...  "
      ]
     },
     "execution_count": 3,
     "metadata": {},
     "output_type": "execute_result"
    }
   ],
   "source": [
    "fest.head()"
   ]
  },
  {
   "cell_type": "code",
   "execution_count": 4,
   "id": "2aff5673",
   "metadata": {},
   "outputs": [],
   "source": [
    "fest.Start_Date = fest.Start_Date.apply(lambda x: parse(x,languages=['es']))\n",
    "fest.End_Date = fest.End_Date.apply(lambda x: parse(x,languages=['es']))"
   ]
  },
  {
   "cell_type": "code",
   "execution_count": 5,
   "id": "2649ce0b",
   "metadata": {},
   "outputs": [
    {
     "data": {
      "text/html": [
       "<div>\n",
       "<style scoped>\n",
       "    .dataframe tbody tr th:only-of-type {\n",
       "        vertical-align: middle;\n",
       "    }\n",
       "\n",
       "    .dataframe tbody tr th {\n",
       "        vertical-align: top;\n",
       "    }\n",
       "\n",
       "    .dataframe thead th {\n",
       "        text-align: right;\n",
       "    }\n",
       "</style>\n",
       "<table border=\"1\" class=\"dataframe\">\n",
       "  <thead>\n",
       "    <tr style=\"text-align: right;\">\n",
       "      <th></th>\n",
       "      <th>Festival</th>\n",
       "      <th>url</th>\n",
       "      <th>Cartel</th>\n",
       "      <th>Start_Date</th>\n",
       "      <th>End_Date</th>\n",
       "      <th>Location</th>\n",
       "      <th>info</th>\n",
       "    </tr>\n",
       "  </thead>\n",
       "  <tbody>\n",
       "    <tr>\n",
       "      <th>1</th>\n",
       "      <td>Primavera a la Ciutat 2023</td>\n",
       "      <td>https://www.songkick.com/es/festivals/3452756-...</td>\n",
       "      <td>[Jake Bugg, Pet Shop Boys, Confidence Man, La ...</td>\n",
       "      <td>2023-05-30</td>\n",
       "      <td>2023-05-31</td>\n",
       "      <td>Sala Apolo</td>\n",
       "      <td>C/ Nou De La Rambla 113\\n08004\\nBarcelona, Spa...</td>\n",
       "    </tr>\n",
       "    <tr>\n",
       "      <th>2</th>\n",
       "      <td>Primavera In The City - Madrid 2023</td>\n",
       "      <td>https://www.songkick.com/es/festivals/3500869-...</td>\n",
       "      <td>[Bleachers, Julia Jacklin, PUP, Black Country,...</td>\n",
       "      <td>2023-06-05</td>\n",
       "      <td>2023-06-11</td>\n",
       "      <td>Unknown</td>\n",
       "      <td>Unknown</td>\n",
       "    </tr>\n",
       "    <tr>\n",
       "      <th>3</th>\n",
       "      <td>Primavera Sound Festival 2023</td>\n",
       "      <td>https://www.songkick.com/es/festivals/618-prim...</td>\n",
       "      <td>[Kendrick Lamar, Calvin Harris, Skrillex, Hals...</td>\n",
       "      <td>2023-06-08</td>\n",
       "      <td>2023-06-11</td>\n",
       "      <td>Ciudad del Rock</td>\n",
       "      <td>Autovía A3: Sentido Valencia Salida 33A, 35\\n2...</td>\n",
       "    </tr>\n",
       "    <tr>\n",
       "      <th>4</th>\n",
       "      <td>Primavera Pack 2023</td>\n",
       "      <td>https://www.songkick.com/es/festivals/3495900-...</td>\n",
       "      <td>[Kendrick Lamar, Calvin Harris, Skrillex, Hals...</td>\n",
       "      <td>2023-06-08</td>\n",
       "      <td>2023-06-10</td>\n",
       "      <td>Ciudad del Rock</td>\n",
       "      <td>Autovía A3: Sentido Valencia Salida 33A, 35\\n2...</td>\n",
       "    </tr>\n",
       "    <tr>\n",
       "      <th>391</th>\n",
       "      <td>Primavera Sound Madrid 2023</td>\n",
       "      <td>https://www.songkick.com/es/festivals/3495787-...</td>\n",
       "      <td>[Ganges, Dharmacide]</td>\n",
       "      <td>2023-06-05</td>\n",
       "      <td>2023-06-10</td>\n",
       "      <td>Ciudad del Rock</td>\n",
       "      <td>Autovía A3: Sentido Valencia Salida 33A, 35\\n2...</td>\n",
       "    </tr>\n",
       "    <tr>\n",
       "      <th>404</th>\n",
       "      <td>Primavera Sound Barcelona 2023</td>\n",
       "      <td>https://www.songkick.com/es/festivals/618-prim...</td>\n",
       "      <td>[Kendrick Lamar, Calvin Harris, Skrillex, Hals...</td>\n",
       "      <td>2023-06-01</td>\n",
       "      <td>2023-06-03</td>\n",
       "      <td>Parc del Fòrum</td>\n",
       "      <td>Plaça de Llevant\\n08019\\nBarcelona, Spain\\n93 ...</td>\n",
       "    </tr>\n",
       "    <tr>\n",
       "      <th>476</th>\n",
       "      <td>Primavera Sound Porto 2023</td>\n",
       "      <td>https://www.songkick.com/es/festivals/1233638-...</td>\n",
       "      <td>[St. Vincent, Sparks]</td>\n",
       "      <td>2023-06-07</td>\n",
       "      <td>2023-06-10</td>\n",
       "      <td>Parque da Cidade</td>\n",
       "      <td>Estrada Interior da Circunvalação 15443\\n3700\\...</td>\n",
       "    </tr>\n",
       "  </tbody>\n",
       "</table>\n",
       "</div>"
      ],
      "text/plain": [
       "                                Festival   \n",
       "1             Primavera a la Ciutat 2023  \\\n",
       "2    Primavera In The City - Madrid 2023   \n",
       "3          Primavera Sound Festival 2023   \n",
       "4                    Primavera Pack 2023   \n",
       "391          Primavera Sound Madrid 2023   \n",
       "404       Primavera Sound Barcelona 2023   \n",
       "476           Primavera Sound Porto 2023   \n",
       "\n",
       "                                                   url   \n",
       "1    https://www.songkick.com/es/festivals/3452756-...  \\\n",
       "2    https://www.songkick.com/es/festivals/3500869-...   \n",
       "3    https://www.songkick.com/es/festivals/618-prim...   \n",
       "4    https://www.songkick.com/es/festivals/3495900-...   \n",
       "391  https://www.songkick.com/es/festivals/3495787-...   \n",
       "404  https://www.songkick.com/es/festivals/618-prim...   \n",
       "476  https://www.songkick.com/es/festivals/1233638-...   \n",
       "\n",
       "                                                Cartel Start_Date   End_Date   \n",
       "1    [Jake Bugg, Pet Shop Boys, Confidence Man, La ... 2023-05-30 2023-05-31  \\\n",
       "2    [Bleachers, Julia Jacklin, PUP, Black Country,... 2023-06-05 2023-06-11   \n",
       "3    [Kendrick Lamar, Calvin Harris, Skrillex, Hals... 2023-06-08 2023-06-11   \n",
       "4    [Kendrick Lamar, Calvin Harris, Skrillex, Hals... 2023-06-08 2023-06-10   \n",
       "391                               [Ganges, Dharmacide] 2023-06-05 2023-06-10   \n",
       "404  [Kendrick Lamar, Calvin Harris, Skrillex, Hals... 2023-06-01 2023-06-03   \n",
       "476                              [St. Vincent, Sparks] 2023-06-07 2023-06-10   \n",
       "\n",
       "             Location                                               info  \n",
       "1          Sala Apolo  C/ Nou De La Rambla 113\\n08004\\nBarcelona, Spa...  \n",
       "2             Unknown                                            Unknown  \n",
       "3     Ciudad del Rock  Autovía A3: Sentido Valencia Salida 33A, 35\\n2...  \n",
       "4     Ciudad del Rock  Autovía A3: Sentido Valencia Salida 33A, 35\\n2...  \n",
       "391   Ciudad del Rock  Autovía A3: Sentido Valencia Salida 33A, 35\\n2...  \n",
       "404    Parc del Fòrum  Plaça de Llevant\\n08019\\nBarcelona, Spain\\n93 ...  \n",
       "476  Parque da Cidade  Estrada Interior da Circunvalação 15443\\n3700\\...  "
      ]
     },
     "execution_count": 5,
     "metadata": {},
     "output_type": "execute_result"
    }
   ],
   "source": [
    "fest[fest.Festival.str.contains('Primavera')]"
   ]
  },
  {
   "cell_type": "code",
   "execution_count": 6,
   "id": "d75db877",
   "metadata": {},
   "outputs": [
    {
     "data": {
      "text/plain": [
       "'Camí Cala Figuera, 1 07181 Calvia, Spain'"
      ]
     },
     "execution_count": 6,
     "metadata": {},
     "output_type": "execute_result"
    }
   ],
   "source": [
    "' '.join(fest['info'][0].split()[:-1])"
   ]
  },
  {
   "cell_type": "code",
   "execution_count": 7,
   "id": "c9d1d57d",
   "metadata": {},
   "outputs": [],
   "source": [
    "fest['info'] = fest['info'].apply(lambda x :' '.join(x.split()))"
   ]
  },
  {
   "cell_type": "code",
   "execution_count": 8,
   "id": "a667c6f0",
   "metadata": {},
   "outputs": [],
   "source": [
    "prueba = fest[fest['info'].str.contains('www')]['info'][0]"
   ]
  },
  {
   "cell_type": "code",
   "execution_count": 9,
   "id": "5c51fe94",
   "metadata": {},
   "outputs": [],
   "source": [
    "prueba = prueba.replace(' ',r'%20')"
   ]
  },
  {
   "cell_type": "code",
   "execution_count": 10,
   "id": "71197bdc",
   "metadata": {},
   "outputs": [
    {
     "data": {
      "text/plain": [
       "'Camí%20Cala%20Figuera,%201%2007181%20Calvia,%20Spain%20www.mallorcalivemusic.com'"
      ]
     },
     "execution_count": 10,
     "metadata": {},
     "output_type": "execute_result"
    }
   ],
   "source": [
    "prueba"
   ]
  },
  {
   "cell_type": "code",
   "execution_count": 11,
   "id": "00065e1a",
   "metadata": {},
   "outputs": [
    {
     "data": {
      "text/plain": [
       "<Response [200]>"
      ]
     },
     "execution_count": 11,
     "metadata": {},
     "output_type": "execute_result"
    }
   ],
   "source": [
    "url = f'https://maps.googleapis.com/maps/api/geocode/json?address={prueba}&key={API_KEY_GOOGLE}'\n",
    "response = rq.get(url)\n",
    "response"
   ]
  },
  {
   "cell_type": "code",
   "execution_count": 20,
   "id": "40717cd2",
   "metadata": {},
   "outputs": [
    {
     "data": {
      "text/plain": [
       "'Spain'"
      ]
     },
     "execution_count": 20,
     "metadata": {},
     "output_type": "execute_result"
    }
   ],
   "source": [
    "response.json()['results'][0]['address_components'][-2]['long_name']"
   ]
  },
  {
   "cell_type": "code",
   "execution_count": 21,
   "id": "42036da8",
   "metadata": {},
   "outputs": [],
   "source": [
    "def get_coordinates(x):\n",
    "    global API_KEY_GOOGLE\n",
    "    address = x.replace(' ','%20')\n",
    "    url = f'https://maps.googleapis.com/maps/api/geocode/json?address={address}&key={API_KEY_GOOGLE}'\n",
    "    try:\n",
    "        response = rq.get(url)\n",
    "        lat, long = response.json()['results'][0]['geometry']['location'].values()\n",
    "        country = response.json()['results'][0]['address_components'][-2]['long_name']\n",
    "        return {'Coordenadas':{'Latitud': lat,\n",
    "                               'Longitud': long},\n",
    "                'País':country}\n",
    "    except:\n",
    "        return {'Coordenadas':{'Latitud': None,\n",
    "                               'Longitud': None},\n",
    "                'País':None}"
   ]
  },
  {
   "cell_type": "code",
   "execution_count": 22,
   "id": "8b1513c6",
   "metadata": {},
   "outputs": [],
   "source": [
    "coord = fest['info'].apply(get_coordinates)"
   ]
  },
  {
   "cell_type": "code",
   "execution_count": 27,
   "id": "45a7dbfd",
   "metadata": {},
   "outputs": [
    {
     "data": {
      "text/plain": [
       "{'results': [{'address_components': [{'long_name': '1',\n",
       "     'short_name': '1',\n",
       "     'types': ['street_number']},\n",
       "    {'long_name': 'Camí Cala Figuera',\n",
       "     'short_name': 'Camí Cala Figuera',\n",
       "     'types': ['route']},\n",
       "    {'long_name': 'Calvià',\n",
       "     'short_name': 'Calvià',\n",
       "     'types': ['locality', 'political']},\n",
       "    {'long_name': 'Illes Balears',\n",
       "     'short_name': 'PM',\n",
       "     'types': ['administrative_area_level_2', 'political']},\n",
       "    {'long_name': 'Illes Balears',\n",
       "     'short_name': 'IB',\n",
       "     'types': ['administrative_area_level_1', 'political']},\n",
       "    {'long_name': 'Spain',\n",
       "     'short_name': 'ES',\n",
       "     'types': ['country', 'political']},\n",
       "    {'long_name': '07181', 'short_name': '07181', 'types': ['postal_code']}],\n",
       "   'formatted_address': 'Camí Cala Figuera, 1, 07181 Calvià, Illes Balears, Spain',\n",
       "   'geometry': {'location': {'lat': 39.5068942, 'lng': 2.5193299},\n",
       "    'location_type': 'ROOFTOP',\n",
       "    'viewport': {'northeast': {'lat': 39.5082444302915,\n",
       "      'lng': 2.520662980291501},\n",
       "     'southwest': {'lat': 39.5055464697085, 'lng': 2.517965019708498}}},\n",
       "   'partial_match': True,\n",
       "   'place_id': 'ChIJGRyooxiJlxIRqnr4WOtNulo',\n",
       "   'plus_code': {'compound_code': 'GG49+QP Calvià, Spain',\n",
       "    'global_code': '8FF4GG49+QP'},\n",
       "   'types': ['street_address']}],\n",
       " 'status': 'OK'}"
      ]
     },
     "execution_count": 27,
     "metadata": {},
     "output_type": "execute_result"
    }
   ],
   "source": [
    "response.json()"
   ]
  },
  {
   "cell_type": "code",
   "execution_count": 53,
   "id": "0ce6c407",
   "metadata": {},
   "outputs": [
    {
     "data": {
      "text/html": [
       "<div>\n",
       "<style scoped>\n",
       "    .dataframe tbody tr th:only-of-type {\n",
       "        vertical-align: middle;\n",
       "    }\n",
       "\n",
       "    .dataframe tbody tr th {\n",
       "        vertical-align: top;\n",
       "    }\n",
       "\n",
       "    .dataframe thead th {\n",
       "        text-align: right;\n",
       "    }\n",
       "</style>\n",
       "<table border=\"1\" class=\"dataframe\">\n",
       "  <thead>\n",
       "    <tr style=\"text-align: right;\">\n",
       "      <th></th>\n",
       "      <th>Coordenadas</th>\n",
       "    </tr>\n",
       "  </thead>\n",
       "  <tbody>\n",
       "    <tr>\n",
       "      <th>0</th>\n",
       "      <td>{'Latitud': 39.5068942, 'Longitud': 2.5193299}</td>\n",
       "    </tr>\n",
       "    <tr>\n",
       "      <th>1</th>\n",
       "      <td>{'Latitud': 41.3743015, 'Longitud': 2.1696845}</td>\n",
       "    </tr>\n",
       "    <tr>\n",
       "      <th>2</th>\n",
       "      <td>{'Latitud': None, 'Longitud': None}</td>\n",
       "    </tr>\n",
       "    <tr>\n",
       "      <th>3</th>\n",
       "      <td>{'Latitud': 39.4706902, 'Longitud': -0.4272878}</td>\n",
       "    </tr>\n",
       "    <tr>\n",
       "      <th>4</th>\n",
       "      <td>{'Latitud': 39.4706902, 'Longitud': -0.4272878}</td>\n",
       "    </tr>\n",
       "    <tr>\n",
       "      <th>...</th>\n",
       "      <td>...</td>\n",
       "    </tr>\n",
       "    <tr>\n",
       "      <th>475</th>\n",
       "      <td>{'Latitud': 41.8872258, 'Longitud': -8.7864370...</td>\n",
       "    </tr>\n",
       "    <tr>\n",
       "      <th>476</th>\n",
       "      <td>{'Latitud': 41.1713817, 'Longitud': -8.6765188}</td>\n",
       "    </tr>\n",
       "    <tr>\n",
       "      <th>477</th>\n",
       "      <td>{'Latitud': 38.6987186, 'Longitud': -9.2381618}</td>\n",
       "    </tr>\n",
       "    <tr>\n",
       "      <th>478</th>\n",
       "      <td>{'Latitud': 47.55308489999999, 'Longitud': 19....</td>\n",
       "    </tr>\n",
       "    <tr>\n",
       "      <th>479</th>\n",
       "      <td>{'Latitud': 20.4644727, 'Longitud': -103.2571608}</td>\n",
       "    </tr>\n",
       "  </tbody>\n",
       "</table>\n",
       "<p>480 rows × 1 columns</p>\n",
       "</div>"
      ],
      "text/plain": [
       "                                           Coordenadas\n",
       "0       {'Latitud': 39.5068942, 'Longitud': 2.5193299}\n",
       "1       {'Latitud': 41.3743015, 'Longitud': 2.1696845}\n",
       "2                  {'Latitud': None, 'Longitud': None}\n",
       "3      {'Latitud': 39.4706902, 'Longitud': -0.4272878}\n",
       "4      {'Latitud': 39.4706902, 'Longitud': -0.4272878}\n",
       "..                                                 ...\n",
       "475  {'Latitud': 41.8872258, 'Longitud': -8.7864370...\n",
       "476    {'Latitud': 41.1713817, 'Longitud': -8.6765188}\n",
       "477    {'Latitud': 38.6987186, 'Longitud': -9.2381618}\n",
       "478  {'Latitud': 47.55308489999999, 'Longitud': 19....\n",
       "479  {'Latitud': 20.4644727, 'Longitud': -103.2571608}\n",
       "\n",
       "[480 rows x 1 columns]"
      ]
     },
     "execution_count": 53,
     "metadata": {},
     "output_type": "execute_result"
    }
   ],
   "source": [
    "coord = pd.DataFrame(coord)\n",
    "coord.columns=['Coordenadas']\n",
    "coord"
   ]
  },
  {
   "cell_type": "code",
   "execution_count": 56,
   "id": "826c46f0",
   "metadata": {},
   "outputs": [],
   "source": [
    "fest = pd.concat([fest,\n",
    "                  coord,\n",
    "                  pd.DataFrame(coord.Coordenadas.to_list())],axis=1)"
   ]
  },
  {
   "cell_type": "code",
   "execution_count": 62,
   "id": "df1c8f10",
   "metadata": {},
   "outputs": [
    {
     "data": {
      "text/plain": [
       "['Primavera In The City - Madrid 2023',\n",
       " 'Sonar 2023',\n",
       " 'Vida Festival 2023',\n",
       " 'Brunch In the Park - Barcelona 2023',\n",
       " 'Dreambeach 2023',\n",
       " 'Sonic Temple Art & Music Festival 2023',\n",
       " 'Louder Than Life Festival 2023',\n",
       " 'SXSW Sydney 2023',\n",
       " 'Wave-Gotik-Treffen 2023',\n",
       " 'Jazzopen Stuttgart 2023',\n",
       " 'Lollapalooza Berlin 2023',\n",
       " 'Santa Teresa 2023',\n",
       " 'Montreal Jazz Fest 2023',\n",
       " 'Ambleside Music Festival 2023',\n",
       " 'Gop Tun Festival 2023',\n",
       " 'Só Track Boa Festival - SP 2023',\n",
       " 'Best of Blues and Rock Festival 2023',\n",
       " 'Vintage is a Festival 2023',\n",
       " 'Vintage is a Festival 2023',\n",
       " 'PunkSpark 2023',\n",
       " 'Dream Machine Bali 2023',\n",
       " 'Prambanan Jazz Festival 2023',\n",
       " 'Soundrenaline 2023',\n",
       " 'Pestapora 2023',\n",
       " 'Joyland Festival 2023',\n",
       " 'Komm schon Alter Festival 2023',\n",
       " 'Lowlands Festival 2023',\n",
       " 'Les Nuits de Fourvière 2023',\n",
       " 'We Love Green 2023',\n",
       " 'Festival de Nîmes 2023',\n",
       " 'İnstagram: ilhxn444 2023',\n",
       " 'No Label Festival 2023',\n",
       " 'ig : @fatinigga 2023',\n",
       " 'CHILLOUT FESTIVAL 2023',\n",
       " 'Kapadokya Müzik Festivali 2023',\n",
       " 'Çanakkale Müzik Festivali 2023',\n",
       " 'insta @ozberkmatreas 2023',\n",
       " 'Cuernavaca Sunrise 2023',\n",
       " 'Cheve y Taco Fest 2023',\n",
       " 'SYNTH FEST 5 2023',\n",
       " 'Calaveras Electronic Music Fest 2023',\n",
       " 'Järfälla Metal Fest 2023',\n",
       " 'Brännbollsyran 2023',\n",
       " 'What A View 2023',\n",
       " 'Gullbranna Festival 2023',\n",
       " 'Big Slap 2023',\n",
       " 'KNOTFEST Italy 2023',\n",
       " 'Flai en CCI Tunuyán 2023',\n",
       " 'La Noche de la Música 2023',\n",
       " 'Crudx Festival 2023',\n",
       " 'The Road to Great Escape Dublin 2023',\n",
       " 'Féile Binn Éadair 2023',\n",
       " 'Doolin Folk Festival 2023',\n",
       " 'Sea Sessions 2023',\n",
       " 'INDIE-PENDANCE FESTIVAL 2023',\n",
       " 'Playing Fields Festivals 2023',\n",
       " 'A Summer Story 2023',\n",
       " 'Holika Festival 2023',\n",
       " 'Share Festival 2023',\n",
       " 'VIDA Festival 2023',\n",
       " 'DreamBeach 2023',\n",
       " 'Tsunami Xixón 2023',\n",
       " 'Cap Roig Festival 2023',\n",
       " 'Las Noches del Malecón 2023',\n",
       " \"Barna 'n' Roll 2023\",\n",
       " 'Fan Futura Fest 2023',\n",
       " 'Atlantic Fest 2023',\n",
       " 'Sonorama 2023',\n",
       " 'Phe Festival 2023',\n",
       " 'Polifonik Sound 2023',\n",
       " 'Caudal Fest 2023',\n",
       " 'Ebrovisión 2023',\n",
       " 'Glastonbury Festival 2023',\n",
       " 'Rock en Seine 2023',\n",
       " 'Lollapalooza Berlín 2023']"
      ]
     },
     "execution_count": 62,
     "metadata": {},
     "output_type": "execute_result"
    }
   ],
   "source": [
    "fest[fest.Longitud.isna()].Festival.tolist()"
   ]
  },
  {
   "cell_type": "code",
   "execution_count": 58,
   "id": "4e9c4032",
   "metadata": {},
   "outputs": [
    {
     "data": {
      "text/html": [
       "<div>\n",
       "<style scoped>\n",
       "    .dataframe tbody tr th:only-of-type {\n",
       "        vertical-align: middle;\n",
       "    }\n",
       "\n",
       "    .dataframe tbody tr th {\n",
       "        vertical-align: top;\n",
       "    }\n",
       "\n",
       "    .dataframe thead th {\n",
       "        text-align: right;\n",
       "    }\n",
       "</style>\n",
       "<table border=\"1\" class=\"dataframe\">\n",
       "  <thead>\n",
       "    <tr style=\"text-align: right;\">\n",
       "      <th></th>\n",
       "      <th>Festival</th>\n",
       "      <th>url</th>\n",
       "      <th>Cartel</th>\n",
       "      <th>Start_Date</th>\n",
       "      <th>End_Date</th>\n",
       "      <th>Location</th>\n",
       "      <th>info</th>\n",
       "      <th>Coordenadas</th>\n",
       "      <th>Latitud</th>\n",
       "      <th>Longitud</th>\n",
       "    </tr>\n",
       "  </thead>\n",
       "  <tbody>\n",
       "    <tr>\n",
       "      <th>0</th>\n",
       "      <td>False</td>\n",
       "      <td>False</td>\n",
       "      <td>False</td>\n",
       "      <td>False</td>\n",
       "      <td>False</td>\n",
       "      <td>False</td>\n",
       "      <td>False</td>\n",
       "      <td>False</td>\n",
       "      <td>False</td>\n",
       "      <td>False</td>\n",
       "    </tr>\n",
       "    <tr>\n",
       "      <th>1</th>\n",
       "      <td>False</td>\n",
       "      <td>False</td>\n",
       "      <td>False</td>\n",
       "      <td>False</td>\n",
       "      <td>False</td>\n",
       "      <td>False</td>\n",
       "      <td>False</td>\n",
       "      <td>False</td>\n",
       "      <td>False</td>\n",
       "      <td>False</td>\n",
       "    </tr>\n",
       "    <tr>\n",
       "      <th>2</th>\n",
       "      <td>False</td>\n",
       "      <td>False</td>\n",
       "      <td>False</td>\n",
       "      <td>False</td>\n",
       "      <td>False</td>\n",
       "      <td>False</td>\n",
       "      <td>False</td>\n",
       "      <td>False</td>\n",
       "      <td>True</td>\n",
       "      <td>True</td>\n",
       "    </tr>\n",
       "    <tr>\n",
       "      <th>3</th>\n",
       "      <td>False</td>\n",
       "      <td>False</td>\n",
       "      <td>False</td>\n",
       "      <td>False</td>\n",
       "      <td>False</td>\n",
       "      <td>False</td>\n",
       "      <td>False</td>\n",
       "      <td>False</td>\n",
       "      <td>False</td>\n",
       "      <td>False</td>\n",
       "    </tr>\n",
       "    <tr>\n",
       "      <th>4</th>\n",
       "      <td>False</td>\n",
       "      <td>False</td>\n",
       "      <td>False</td>\n",
       "      <td>False</td>\n",
       "      <td>False</td>\n",
       "      <td>False</td>\n",
       "      <td>False</td>\n",
       "      <td>False</td>\n",
       "      <td>False</td>\n",
       "      <td>False</td>\n",
       "    </tr>\n",
       "    <tr>\n",
       "      <th>...</th>\n",
       "      <td>...</td>\n",
       "      <td>...</td>\n",
       "      <td>...</td>\n",
       "      <td>...</td>\n",
       "      <td>...</td>\n",
       "      <td>...</td>\n",
       "      <td>...</td>\n",
       "      <td>...</td>\n",
       "      <td>...</td>\n",
       "      <td>...</td>\n",
       "    </tr>\n",
       "    <tr>\n",
       "      <th>475</th>\n",
       "      <td>False</td>\n",
       "      <td>False</td>\n",
       "      <td>False</td>\n",
       "      <td>False</td>\n",
       "      <td>False</td>\n",
       "      <td>False</td>\n",
       "      <td>False</td>\n",
       "      <td>False</td>\n",
       "      <td>False</td>\n",
       "      <td>False</td>\n",
       "    </tr>\n",
       "    <tr>\n",
       "      <th>476</th>\n",
       "      <td>False</td>\n",
       "      <td>False</td>\n",
       "      <td>False</td>\n",
       "      <td>False</td>\n",
       "      <td>False</td>\n",
       "      <td>False</td>\n",
       "      <td>False</td>\n",
       "      <td>False</td>\n",
       "      <td>False</td>\n",
       "      <td>False</td>\n",
       "    </tr>\n",
       "    <tr>\n",
       "      <th>477</th>\n",
       "      <td>False</td>\n",
       "      <td>False</td>\n",
       "      <td>False</td>\n",
       "      <td>False</td>\n",
       "      <td>False</td>\n",
       "      <td>False</td>\n",
       "      <td>False</td>\n",
       "      <td>False</td>\n",
       "      <td>False</td>\n",
       "      <td>False</td>\n",
       "    </tr>\n",
       "    <tr>\n",
       "      <th>478</th>\n",
       "      <td>False</td>\n",
       "      <td>False</td>\n",
       "      <td>False</td>\n",
       "      <td>False</td>\n",
       "      <td>False</td>\n",
       "      <td>False</td>\n",
       "      <td>False</td>\n",
       "      <td>False</td>\n",
       "      <td>False</td>\n",
       "      <td>False</td>\n",
       "    </tr>\n",
       "    <tr>\n",
       "      <th>479</th>\n",
       "      <td>False</td>\n",
       "      <td>False</td>\n",
       "      <td>False</td>\n",
       "      <td>False</td>\n",
       "      <td>False</td>\n",
       "      <td>False</td>\n",
       "      <td>False</td>\n",
       "      <td>False</td>\n",
       "      <td>False</td>\n",
       "      <td>False</td>\n",
       "    </tr>\n",
       "  </tbody>\n",
       "</table>\n",
       "<p>480 rows × 10 columns</p>\n",
       "</div>"
      ],
      "text/plain": [
       "     Festival    url  Cartel  Start_Date  End_Date  Location   info   \n",
       "0       False  False   False       False     False     False  False  \\\n",
       "1       False  False   False       False     False     False  False   \n",
       "2       False  False   False       False     False     False  False   \n",
       "3       False  False   False       False     False     False  False   \n",
       "4       False  False   False       False     False     False  False   \n",
       "..        ...    ...     ...         ...       ...       ...    ...   \n",
       "475     False  False   False       False     False     False  False   \n",
       "476     False  False   False       False     False     False  False   \n",
       "477     False  False   False       False     False     False  False   \n",
       "478     False  False   False       False     False     False  False   \n",
       "479     False  False   False       False     False     False  False   \n",
       "\n",
       "     Coordenadas  Latitud  Longitud  \n",
       "0          False    False     False  \n",
       "1          False    False     False  \n",
       "2          False     True      True  \n",
       "3          False    False     False  \n",
       "4          False    False     False  \n",
       "..           ...      ...       ...  \n",
       "475        False    False     False  \n",
       "476        False    False     False  \n",
       "477        False    False     False  \n",
       "478        False    False     False  \n",
       "479        False    False     False  \n",
       "\n",
       "[480 rows x 10 columns]"
      ]
     },
     "execution_count": 58,
     "metadata": {},
     "output_type": "execute_result"
    }
   ],
   "source": [
    "fest.isna()"
   ]
  },
  {
   "cell_type": "code",
   "execution_count": 64,
   "id": "97ea3520",
   "metadata": {},
   "outputs": [],
   "source": [
    "fest.to_parquet('../data/fest_coord.parquet',index=False)"
   ]
  },
  {
   "cell_type": "code",
   "execution_count": 65,
   "id": "5f458f8d",
   "metadata": {},
   "outputs": [],
   "source": [
    "import pymongo"
   ]
  },
  {
   "cell_type": "code",
   "execution_count": 66,
   "id": "cfac4cfc",
   "metadata": {},
   "outputs": [],
   "source": [
    "cursor = pymongo.MongoClient('mongodb://localhost:27017')"
   ]
  },
  {
   "cell_type": "code",
   "execution_count": 68,
   "id": "0a86e282",
   "metadata": {},
   "outputs": [],
   "source": [
    "db_fest = cursor.Festivales"
   ]
  },
  {
   "cell_type": "code",
   "execution_count": 70,
   "id": "35880e10",
   "metadata": {},
   "outputs": [],
   "source": [
    "fest_coord = db_fest.fest_coord"
   ]
  },
  {
   "cell_type": "code",
   "execution_count": 72,
   "id": "50a848cb",
   "metadata": {},
   "outputs": [
    {
     "data": {
      "text/plain": [
       "<pymongo.results.InsertManyResult at 0x212cdc06730>"
      ]
     },
     "execution_count": 72,
     "metadata": {},
     "output_type": "execute_result"
    }
   ],
   "source": [
    "fest.Cartel = fest.Cartel.apply(list)\n",
    "fest_coord.insert_many(fest.to_dict(orient='records'))"
   ]
  },
  {
   "cell_type": "code",
   "execution_count": null,
   "id": "c4819e86",
   "metadata": {},
   "outputs": [],
   "source": []
  }
 ],
 "metadata": {
  "kernelspec": {
   "display_name": "Python 3 (ipykernel)",
   "language": "python",
   "name": "python3"
  },
  "language_info": {
   "codemirror_mode": {
    "name": "ipython",
    "version": 3
   },
   "file_extension": ".py",
   "mimetype": "text/x-python",
   "name": "python",
   "nbconvert_exporter": "python",
   "pygments_lexer": "ipython3",
   "version": "3.9.15"
  },
  "varInspector": {
   "cols": {
    "lenName": 16,
    "lenType": 16,
    "lenVar": 40
   },
   "kernels_config": {
    "python": {
     "delete_cmd_postfix": "",
     "delete_cmd_prefix": "del ",
     "library": "var_list.py",
     "varRefreshCmd": "print(var_dic_list())"
    },
    "r": {
     "delete_cmd_postfix": ") ",
     "delete_cmd_prefix": "rm(",
     "library": "var_list.r",
     "varRefreshCmd": "cat(var_dic_list()) "
    }
   },
   "types_to_exclude": [
    "module",
    "function",
    "builtin_function_or_method",
    "instance",
    "_Feature"
   ],
   "window_display": false
  }
 },
 "nbformat": 4,
 "nbformat_minor": 5
}
